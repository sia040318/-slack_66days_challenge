{
 "cells": [
  {
   "cell_type": "markdown",
   "id": "89b92afb-776f-4c41-9f09-88126d5b3674",
   "metadata": {},
   "source": [
    "## Slack에 올라와 있는 도전 과제 3개\n",
    "\n",
    "\n",
    "### <u>66일 도전 66days challenge #day24</u>\n",
    "#### 1부터 1,000에서 각 숫자의 개수를 구하는 Python code를 작성\n",
    "\n",
    "* 예를 들어, 10 ~ 15까지의 각 숫자의 개수를 구해보면\n",
    "  * 10 = 1, 0\n",
    "  * 11 = 1, 1\n",
    "  * 12 = 1, 2\n",
    "  * 13 = 1, 3\n",
    "  * 14 = 1, 4\n",
    "  * 15 = 1, 5\n",
    "* 그러므로 이 경우의 답은 0:1개, 1:7개, 2:1개, 3:1개, 4:1개, 5:1개 입니다."
   ]
  },
  {
   "cell_type": "markdown",
   "id": "3be793b4-f713-43de-9efc-5d43d4107028",
   "metadata": {},
   "source": [
    "#### Step-by-Step Explanation\n",
    "1. Dictionary Comprehension Initialization:\n",
    "   *  Let's create a dictionary res with keys from 0 to 9, each initialized to 0."
   ]
  },
  {
   "cell_type": "code",
   "execution_count": null,
   "id": "2e01d81a-be7c-4aaa-affb-a03a4aef211a",
   "metadata": {},
   "outputs": [],
   "source": [
    "res = {key: 0 for key in range(0, 10)}"
   ]
  },
  {
   "cell_type": "markdown",
   "id": "0adf9da3-0e81-4381-91c8-cece2fee43c9",
   "metadata": {},
   "source": [
    "2. Iterating through Numbers 1 to 1000:\n",
    "   * Let's create a loop, inside which each number i is converted to a string. This allows to iterate over each digit of the number."
   ]
  },
  {
   "cell_type": "code",
   "execution_count": null,
   "id": "2002b3cc-eec2-417a-b4ce-b5feaa353859",
   "metadata": {},
   "outputs": [],
   "source": [
    "for i in range(1, 1001):\n",
    "    i = str(i)"
   ]
  },
  {
   "cell_type": "markdown",
   "id": "c4ebefc3-bf4c-4a44-bb9f-ca8275714170",
   "metadata": {},
   "source": [
    "3. Iterating through Digits of Each Number:\n",
    "   * Now let's create a loop which iterates over each character (digit) in the string representation of the number i."
   ]
  },
  {
   "cell_type": "code",
   "execution_count": null,
   "id": "7047c299-8228-4fa3-ae6c-21884662b325",
   "metadata": {},
   "outputs": [],
   "source": [
    "for j in range(len(i)):\n",
    "    res[int(i[j])] += 1"
   ]
  },
  {
   "cell_type": "markdown",
   "id": "7b8a507a-5c2e-4eab-a9ec-3b7d0f27b0d2",
   "metadata": {},
   "source": [
    "##### **This means every time a digit is encountered in any number, its corresponding count in the dictionary is increased by 1.**"
   ]
  },
  {
   "cell_type": "markdown",
   "id": "0de51f39-1f97-4ac1-9463-339688fdb190",
   "metadata": {},
   "source": [
    "4. Printing the Result:"
   ]
  },
  {
   "cell_type": "code",
   "execution_count": null,
   "id": "392c7aa5-5bc3-4230-b21c-de356039625c",
   "metadata": {},
   "outputs": [],
   "source": [
    "print(res)"
   ]
  },
  {
   "cell_type": "markdown",
   "id": "aaa608db-4011-49c2-b43b-fa887b2f3dba",
   "metadata": {},
   "source": [
    "\n",
    "#### Final Output"
   ]
  },
  {
   "cell_type": "code",
   "execution_count": null,
   "id": "817c0239-a0c7-4151-95c2-274bc54b616d",
   "metadata": {},
   "outputs": [],
   "source": [
    "{0: 192, 1: 301, 2: 300, 3: 300, 4: 300, 5: 300, 6: 300, 7: 300, 8: 300, 9: 300}"
   ]
  },
  {
   "cell_type": "markdown",
   "id": "fed71571-5ae0-4363-ac83-cb5372670763",
   "metadata": {},
   "source": [
    "\n",
    "\n",
    "### <u>66일 도전 66days challenge #day34</u>\n",
    " * Write a Python function called recursive_sum that calculates the sum between N and M using recursion.\n",
    " * N and M are natural numbers.\n",
    " * Test the function by calculating the sum between N and M and print the results.\n",
    "\n",
    "#### Step-by-Step Explanation\n",
    "1. Let's create the following recursive_sum function that calculates the sum between N and M using recursion."
   ]
  },
  {
   "cell_type": "code",
   "execution_count": null,
   "id": "5da4282d-9076-442b-9bcb-ce19e75808e1",
   "metadata": {},
   "outputs": [],
   "source": [
    "def recursive_sum(n,m):\n",
    "    if n == m:\n",
    "        return n\n",
    "    else:\n",
    "        return m + recursive_sum(n, m-1)"
   ]
  },
  {
   "cell_type": "markdown",
   "id": "1a467570-37ac-4509-a7c2-553ca6962186",
   "metadata": {},
   "source": [
    "2. Getting User Input and Calling the Function."
   ]
  },
  {
   "cell_type": "code",
   "execution_count": null,
   "id": "a4b34a5d-ef17-4526-beb5-0ac3a141303a",
   "metadata": {},
   "outputs": [],
   "source": [
    "a = int(input(\"Enter number: \"))\n",
    "b = int(input(\"Enter number: \"))"
   ]
  },
  {
   "cell_type": "markdown",
   "id": "6c036713-af84-4802-9363-ce400675cd45",
   "metadata": {},
   "source": [
    "3. Printing the Result."
   ]
  },
  {
   "cell_type": "code",
   "execution_count": null,
   "id": "fae4abcd-f4ff-480d-bb5e-6fdc9f6561f4",
   "metadata": {},
   "outputs": [],
   "source": [
    "print(f\"Sum from {a} to {b} is {recursive_sum(a,b)}\")"
   ]
  },
  {
   "cell_type": "markdown",
   "id": "48b521b0-c9f3-49d9-8bd1-a28201f6c60f",
   "metadata": {},
   "source": [
    "#### For Example:"
   ]
  },
  {
   "cell_type": "code",
   "execution_count": null,
   "id": "5e6da634-30ff-44a1-8e8e-18703c64dff5",
   "metadata": {},
   "outputs": [],
   "source": [
    "print(recursive_sum(1, 100)) "
   ]
  },
  {
   "cell_type": "markdown",
   "id": "3c1c22c2-48b1-4105-8936-0ae4db71e308",
   "metadata": {},
   "source": [
    "##### Should print 5050 "
   ]
  },
  {
   "cell_type": "markdown",
   "id": "281abde9-8997-457a-b3d8-c61bf1d39081",
   "metadata": {},
   "source": [
    "\n",
    "\n",
    "### <u>66일 도전 66days challenge #day47</u>\n",
    "#### map( ) 과 filter( )을 사용하여서 [1, 2, 3, 4, 5, 6, 7, 8, 9, 10] 중에서 짝수의 제곱으로 새로운 리스트를 만드는 Python 코드를 작성해보자.\n",
    "\n",
    "#### Step-by-Step Explanation\n",
    "1. Original List Definition:"
   ]
  },
  {
   "cell_type": "code",
   "execution_count": null,
   "id": "9576a028-eaa2-4ff1-ae89-a9ed3697ef15",
   "metadata": {},
   "outputs": [],
   "source": [
    "numbers = [1, 2, 3, 4, 5, 6, 7, 8, 9, 10]"
   ]
  },
  {
   "cell_type": "markdown",
   "id": "552b5db0-3742-4657-ba77-d2e76ba4df93",
   "metadata": {},
   "source": [
    "2. Function to Filter Even Numbers:"
   ]
  },
  {
   "cell_type": "code",
   "execution_count": null,
   "id": "3f441b83-d221-4cb3-a363-d039b6c676c3",
   "metadata": {},
   "outputs": [],
   "source": [
    "def is_even(num):\n",
    "    return num % 2 == 0"
   ]
  },
  {
   "cell_type": "markdown",
   "id": "732c6807-61d9-45c7-a2a7-b5e82baa8e97",
   "metadata": {},
   "source": [
    "3. Function to Calculate Squares:"
   ]
  },
  {
   "cell_type": "code",
   "execution_count": null,
   "id": "fe827ba3-ff7b-4b93-8a12-9fd393cc5114",
   "metadata": {},
   "outputs": [],
   "source": [
    "def square(num):\n",
    "    return num ** 2"
   ]
  },
  {
   "cell_type": "markdown",
   "id": "6194e29c-baa7-42f1-bd47-9ff0f6fbdcfa",
   "metadata": {},
   "source": [
    "4. Using Filter() and Map() Functions:\n",
    "   * The filter() function filters the list numbers to only keep the numbers for which the is_even function returns True, i.e., it keeps only the even numbers.\n",
    "   * The map() function applies the square function to each element of the filtered list of even numbers.\n",
    "   * The list() function is used to convert the result into a list."
   ]
  },
  {
   "cell_type": "code",
   "execution_count": null,
   "id": "1e19eab8-5fa5-4de9-ba8f-e4ddf68884f0",
   "metadata": {},
   "outputs": [],
   "source": [
    "even_squares = list(map(square, filter(is_even, numbers)))"
   ]
  },
  {
   "cell_type": "markdown",
   "id": "0a314dd1-a5e7-4eac-b18e-85295a2b1692",
   "metadata": {},
   "source": [
    "5. Output:"
   ]
  },
  {
   "cell_type": "code",
   "execution_count": null,
   "id": "d41d22c3-6944-4ee2-8dca-3b1a523f3af3",
   "metadata": {},
   "outputs": [],
   "source": [
    "print(even_squares)"
   ]
  },
  {
   "cell_type": "markdown",
   "id": "ec9149d8-0ba6-4e6d-92ee-012891d7b0d3",
   "metadata": {},
   "source": [
    "##### Prints the final list [4, 16, 36, 64, 100]."
   ]
  }
 ],
 "metadata": {
  "kernelspec": {
   "display_name": "Python 3 (ipykernel)",
   "language": "python",
   "name": "python3"
  },
  "language_info": {
   "codemirror_mode": {
    "name": "ipython",
    "version": 3
   },
   "file_extension": ".py",
   "mimetype": "text/x-python",
   "name": "python",
   "nbconvert_exporter": "python",
   "pygments_lexer": "ipython3",
   "version": "3.11.7"
  }
 },
 "nbformat": 4,
 "nbformat_minor": 5
}
